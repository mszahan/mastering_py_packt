{
 "cells": [
  {
   "cell_type": "markdown",
   "id": "6096947f",
   "metadata": {},
   "source": [
    "### Assignment to argument names don't affect the caller\n",
    "- the name x is pointed to an integer with value 7, leaving the global x unaltered."
   ]
  },
  {
   "cell_type": "code",
   "execution_count": 3,
   "id": "d94ff9b9",
   "metadata": {},
   "outputs": [
    {
     "name": "stdout",
     "output_type": "stream",
     "text": [
      "inner x: 7\n",
      "outer x: 3\n"
     ]
    }
   ],
   "source": [
    "x=3\n",
    "def func(x):\n",
    "    x = 7\n",
    "    print('inner x:', x)\n",
    "\n",
    "func(x)\n",
    "print('outer x:',x)"
   ]
  },
  {
   "cell_type": "markdown",
   "id": "d8cb3b60",
   "metadata": {},
   "source": [
    "### Changing a mutable affects the caller\n",
    "- Changing a mutable affects the caller"
   ]
  },
  {
   "cell_type": "code",
   "execution_count": 5,
   "id": "78058f1f",
   "metadata": {},
   "outputs": [
    {
     "name": "stdout",
     "output_type": "stream",
     "text": [
      "inner x: [7, 2, 3]\n",
      "outer x: [7, 2, 3]\n"
     ]
    }
   ],
   "source": [
    "x = [1, 2, 3]\n",
    "def func(x):\n",
    "    x[0] = 7\n",
    "    print('inner x:', x)\n",
    "\n",
    "func(x)\n",
    "print('outer x:', x)"
   ]
  },
  {
   "cell_type": "markdown",
   "id": "5cb5f1fc",
   "metadata": {},
   "source": [
    "- Assigning an object to an argument name within a function doesn't affect the caller"
   ]
  },
  {
   "cell_type": "code",
   "execution_count": 6,
   "id": "fe6824d9",
   "metadata": {},
   "outputs": [
    {
     "name": "stdout",
     "output_type": "stream",
     "text": [
      "outer x: [7, 2, 3]\n"
     ]
    }
   ],
   "source": [
    "x = [1, 2, 3]\n",
    "def func(x):\n",
    "    x[0] = 7\n",
    "    x = 'something else'\n",
    "\n",
    "func(x)\n",
    "print('outer x:', x)"
   ]
  },
  {
   "cell_type": "markdown",
   "id": "ebdc5fef",
   "metadata": {},
   "source": [
    "### How to specify input parameters\n",
    "- **Positional arguments** - Positional arguments are read from left to right"
   ]
  },
  {
   "cell_type": "code",
   "execution_count": 7,
   "id": "e6f110ce",
   "metadata": {},
   "outputs": [
    {
     "name": "stdout",
     "output_type": "stream",
     "text": [
      "1 2 3\n"
     ]
    }
   ],
   "source": [
    "def func(a, b, c):\n",
    "    print(a, b, c)\n",
    "\n",
    "func(1, 2, 3)"
   ]
  },
  {
   "cell_type": "markdown",
   "id": "aaa33871",
   "metadata": {},
   "source": [
    "- **Keyword arguments and default values** - Keyword arguments are assigned by keyword using the name=value syntax"
   ]
  },
  {
   "cell_type": "code",
   "execution_count": 8,
   "id": "09458997",
   "metadata": {},
   "outputs": [
    {
     "name": "stdout",
     "output_type": "stream",
     "text": [
      "1 3 2\n"
     ]
    }
   ],
   "source": [
    "def func(a, b, c):\n",
    "    print(a, b, c)\n",
    "\n",
    "func(a=1, c=2, b=3)"
   ]
  },
  {
   "cell_type": "markdown",
   "id": "d93ce751",
   "metadata": {},
   "source": [
    "- Default value"
   ]
  },
  {
   "cell_type": "code",
   "execution_count": null,
   "id": "5da8c66f",
   "metadata": {},
   "outputs": [
    {
     "name": "stdout",
     "output_type": "stream",
     "text": [
      "1 4 88\n",
      "7 5 9\n",
      "42 4 99\n"
     ]
    }
   ],
   "source": [
    "def func(a, b=4, c=88):\n",
    "    print(a, b, c)\n",
    "\n",
    "func(1)\n",
    "func(b=5, a=7, c=9)\n",
    "func(42, c=99)\n",
    "# func(b=1, c=2, 42) # SyntaxError: non-keyword arg after keyword arg"
   ]
  },
  {
   "cell_type": "markdown",
   "id": "023ae815",
   "metadata": {},
   "source": [
    "- Variable positional arguments"
   ]
  },
  {
   "cell_type": "code",
   "execution_count": 10,
   "id": "37c74adc",
   "metadata": {},
   "outputs": [
    {
     "name": "stdout",
     "output_type": "stream",
     "text": [
      "-7\n"
     ]
    }
   ],
   "source": [
    "def minimum(*n):\n",
    "    # print(n) #n is a tuple\n",
    "    if n:\n",
    "        mn = n[0]\n",
    "        for value in n[1:]:\n",
    "            if value < mn:\n",
    "                mn = value\n",
    "        print(mn)\n",
    "\n",
    "minimum(1, 3, -7, 9)\n",
    "minimum()"
   ]
  },
  {
   "cell_type": "markdown",
   "id": "2cdbffca",
   "metadata": {},
   "source": [
    "- In the first one, we call func with one argument, a four elements tuple. In the second example, by using the * syntax, we're doing something called unpacking, which means that the four elements tuple is unpacked, and the function is called with four arguments: 1, 3, -7, 9"
   ]
  },
  {
   "cell_type": "code",
   "execution_count": 11,
   "id": "37c5c0bf",
   "metadata": {},
   "outputs": [
    {
     "name": "stdout",
     "output_type": "stream",
     "text": [
      "((1, 3, -7, 9),)\n",
      "(1, 3, -7, 9)\n"
     ]
    }
   ],
   "source": [
    "def func(*args):\n",
    "    print(args)\n",
    "\n",
    "values = (1, 3, -7, 9)\n",
    "func(values)\n",
    "func(*values)"
   ]
  },
  {
   "cell_type": "markdown",
   "id": "483ca8fc",
   "metadata": {},
   "source": [
    "- Variable keyword arguments"
   ]
  },
  {
   "cell_type": "code",
   "execution_count": 12,
   "id": "293c6e8b",
   "metadata": {},
   "outputs": [
    {
     "name": "stdout",
     "output_type": "stream",
     "text": [
      "{'a': 1, 'b': 42}\n",
      "{'a': 1, 'b': 42}\n",
      "{'a': 1, 'b': 42}\n"
     ]
    }
   ],
   "source": [
    "def func(**kwargs):\n",
    "    print(kwargs)\n",
    "\n",
    "# all calls equivalent they print {'a': 1, 'b': 42}\n",
    "func(a=1, b=42)\n",
    "func(**{'a': 1, 'b': 42})\n",
    "func(**dict(a=1, b=42))\n"
   ]
  },
  {
   "cell_type": "code",
   "execution_count": 1,
   "id": "9f9ee613",
   "metadata": {},
   "outputs": [
    {
     "name": "stdout",
     "output_type": "stream",
     "text": [
      "{'host': '127.0.0.1', 'port': 5432, 'user': '', 'pwd': ''}\n",
      "{'host': '127.0.0.42', 'port': 5433, 'user': '', 'pwd': ''}\n",
      "{'host': '127.0.0.1', 'port': 5431, 'user': 'admin', 'pwd': 'secret'}\n"
     ]
    }
   ],
   "source": [
    "def connect(**options):\n",
    "    conn_params = {\n",
    "        'host': options.get('host', '127.0.0.1'),\n",
    "        'port': options.get('port', 5432),\n",
    "        'user': options.get('user', ''),\n",
    "        'pwd': options.get('pwd', '')\n",
    "    }\n",
    "    print(conn_params)\n",
    "    #connect to the database\n",
    "    # db.connect(**conn_params)\n",
    "\n",
    "connect()\n",
    "connect(host='127.0.0.42', port=5433)\n",
    "connect(port=5431, user='admin', pwd='secret')"
   ]
  },
  {
   "cell_type": "markdown",
   "id": "05ae8713",
   "metadata": {},
   "source": [
    "- Keyword-only arguments"
   ]
  },
  {
   "cell_type": "code",
   "execution_count": null,
   "id": "f0eee683",
   "metadata": {},
   "outputs": [
    {
     "name": "stdout",
     "output_type": "stream",
     "text": [
      "(1, 2, 3) 7\n",
      "() 4\n"
     ]
    }
   ],
   "source": [
    "def kwo(*a, c):\n",
    "    print(a, c)\n",
    "\n",
    "kwo(1, 2, 3, c=7)\n",
    "kwo(c=4)\n",
    "# kwo(1, 2) # TypeError: missing a required keyword-only argument: 'c'"
   ]
  },
  {
   "cell_type": "code",
   "execution_count": 3,
   "id": "86aba947",
   "metadata": {},
   "outputs": [
    {
     "name": "stdout",
     "output_type": "stream",
     "text": [
      "3 7 99\n",
      "3 42 13\n"
     ]
    }
   ],
   "source": [
    "def kwo2(a, b=42, *, c):\n",
    "    print(a, b, c)\n",
    "\n",
    "kwo2(3, b=7, c=99)\n",
    "kwo2(3, c=13)\n",
    "# kwo2(3, 7) # TypeError: missing a required keyword-only argument: 'c'"
   ]
  },
  {
   "cell_type": "markdown",
   "id": "090e7e0d",
   "metadata": {},
   "source": [
    "### Combining input parameters\n",
    "- When defining a function, normal positional arguments come first (name), then any default arguments (name=value), then the variable positional arguments (*name, or simply *), then any keyword-only arguments (either name or name=value form is good), then any variable keyword arguments (**name).\n",
    "- On the other hand, when calling a function, arguments must be given in the following order: positional arguments first (value), then any combination of keyword arguments (name=value), variable positional arguments (*name), then variable keyword arguments (**name)."
   ]
  },
  {
   "cell_type": "code",
   "execution_count": 5,
   "id": "b7d03de3",
   "metadata": {},
   "outputs": [
    {
     "name": "stdout",
     "output_type": "stream",
     "text": [
      "a, b, c 1 2 3\n",
      "args (5, 7, 9)\n",
      "kwargs {'A': 'a', 'B': 'b'}\n",
      "a, b, c 1 2 3\n",
      "args (5, 7, 9)\n",
      "kwargs {'A': 'a', 'B': 'b'}\n"
     ]
    }
   ],
   "source": [
    "def func(a, b, c=7, *args, **kwargs):\n",
    "    print('a, b, c', a, b, c)\n",
    "    print('args', args)\n",
    "    print('kwargs', kwargs)\n",
    "\n",
    "func(1,2,3, *(5, 7, 9), **{'A': 'a', 'B':'b'})\n",
    "func(1, 2, 3, 5, 7, 9, A='a', B='b')"
   ]
  },
  {
   "cell_type": "code",
   "execution_count": 6,
   "id": "b151a092",
   "metadata": {},
   "outputs": [
    {
     "name": "stdout",
     "output_type": "stream",
     "text": [
      "a, b 3 42\n",
      "c, d 0 1\n",
      "args (7, 9, 11)\n",
      "kwargs {'e': 'E', 'f': 'F'}\n",
      "a, b 3 42\n",
      "c, d 0 1\n",
      "args (7, 9, 11)\n",
      "kwargs {'e': '#', 'f': 'F'}\n"
     ]
    }
   ],
   "source": [
    "def func_with_kwonly(a, b=42, *args, c, d=265, **kwargs):\n",
    "    print('a, b', a, b)\n",
    "    print('c, d', c, d)\n",
    "    print('args', args)\n",
    "    print('kwargs', kwargs)\n",
    "\n",
    "func_with_kwonly(3, 42, c=0, d=1, *(7,9,11), e='E', f='F')\n",
    "func_with_kwonly(3, 42, *(7, 9, 11), c=0, d=1, e='#', f='F')"
   ]
  },
  {
   "cell_type": "markdown",
   "id": "2e6e55d8",
   "metadata": {},
   "source": [
    "### Avoid the trap! Mutable defaults\n",
    "- default values are created at def time, therefore, subsequent calls to the same function will possibly behave differently according to the mutability of their default values"
   ]
  },
  {
   "cell_type": "code",
   "execution_count": 7,
   "id": "98194729",
   "metadata": {},
   "outputs": [
    {
     "name": "stdout",
     "output_type": "stream",
     "text": [
      "a []\n",
      "b {}\n",
      "############\n",
      "a [0]\n",
      "b {0: 1}\n",
      "############\n",
      "a [0, 1]\n",
      "b {0: 1, 1: 2}\n",
      "############\n"
     ]
    }
   ],
   "source": [
    "def func(a=[], b={}):\n",
    "    print('a', a)\n",
    "    print('b', b)\n",
    "    print('#' * 12)\n",
    "    a.append(len(a)) # this will affect the default value\n",
    "    b[len(b)] = len(a) # and this will affect b's one\n",
    "\n",
    "func()\n",
    "func()\n",
    "func()"
   ]
  },
  {
   "cell_type": "markdown",
   "id": "b7c8ace5",
   "metadata": {},
   "source": [
    "- how do I get a fresh empty value every time? Well, the convention is the following"
   ]
  },
  {
   "cell_type": "code",
   "execution_count": null,
   "id": "c70995f8",
   "metadata": {},
   "outputs": [],
   "source": [
    "def func(a=None):\n",
    "    if a is None:\n",
    "        a = []"
   ]
  },
  {
   "cell_type": "markdown",
   "id": "ac2f715c",
   "metadata": {},
   "source": [
    "### Returning multiple values\n",
    "- To return multiple values is very easy, you just use tuples (either explicitly or implicitly)"
   ]
  },
  {
   "cell_type": "code",
   "execution_count": 8,
   "id": "ed5d5fcd",
   "metadata": {},
   "outputs": [
    {
     "name": "stdout",
     "output_type": "stream",
     "text": [
      "(3, 1)\n"
     ]
    }
   ],
   "source": [
    "def moddiv(a, b):\n",
    "    return a // b, a % b\n",
    "\n",
    "print(moddiv(10, 3)) # (3, 1)"
   ]
  },
  {
   "cell_type": "markdown",
   "id": "0eac03d0",
   "metadata": {},
   "source": [
    "### Recursive functions"
   ]
  },
  {
   "cell_type": "code",
   "execution_count": 1,
   "id": "e1a30381",
   "metadata": {},
   "outputs": [
    {
     "name": "stdout",
     "output_type": "stream",
     "text": [
      "120\n"
     ]
    }
   ],
   "source": [
    "def factorial(n):\n",
    "    if n in (0, 1):\n",
    "        return 1\n",
    "    return n * factorial(n-1)\n",
    "\n",
    "print(factorial(5)) # 120"
   ]
  },
  {
   "cell_type": "markdown",
   "id": "01f910c2",
   "metadata": {},
   "source": [
    "### Anonymous functions\n",
    "- Regular function"
   ]
  },
  {
   "cell_type": "code",
   "execution_count": 2,
   "id": "ff8a32bd",
   "metadata": {},
   "outputs": [
    {
     "name": "stdout",
     "output_type": "stream",
     "text": [
      "[0, 5, 10, 15, 20, 25, 30, 35, 40, 45, 50, 55, 60, 65, 70, 75, 80, 85, 90, 95]\n"
     ]
    }
   ],
   "source": [
    "def is_multiple_of_five(n):\n",
    "    return not n % 5\n",
    "\n",
    "def get_multiples_of_five(n):\n",
    "    return list(filter(is_multiple_of_five, range(n)))\n",
    "\n",
    "print(get_multiples_of_five(100)) "
   ]
  },
  {
   "cell_type": "markdown",
   "id": "c2396fcd",
   "metadata": {},
   "source": [
    "- with lambda function"
   ]
  },
  {
   "cell_type": "code",
   "execution_count": 3,
   "id": "8114bc87",
   "metadata": {},
   "outputs": [
    {
     "name": "stdout",
     "output_type": "stream",
     "text": [
      "[0, 5, 10, 15, 20, 25, 30, 35, 40, 45, 50, 55, 60, 65, 70, 75, 80, 85, 90, 95]\n"
     ]
    }
   ],
   "source": [
    "def get_multiples_of_five(n):\n",
    "    return list(filter(lambda x: not x % 5, range(n)))\n",
    "\n",
    "print(get_multiples_of_five(100))"
   ]
  },
  {
   "cell_type": "markdown",
   "id": "b7f46079",
   "metadata": {},
   "source": [
    "- lambda explain"
   ]
  },
  {
   "cell_type": "code",
   "execution_count": null,
   "id": "0525b9cf",
   "metadata": {},
   "outputs": [],
   "source": [
    "# example 1: adder\n",
    "def adder(a, b):\n",
    "    return a + b\n",
    "# is equivalent to\n",
    "adder_lambda = lambda a, b: a + b\n",
    "\n",
    "\n",
    "# example 2: to uppercase\n",
    "\n",
    "def to_upper(s):\n",
    "    return s.upper()\n",
    "\n",
    "# is equivalent to\n",
    "to_upper_lambda = lambda s: s.upper()"
   ]
  },
  {
   "cell_type": "markdown",
   "id": "59bb918b",
   "metadata": {},
   "source": [
    "- Prime number generator function (the optimized one)"
   ]
  },
  {
   "cell_type": "code",
   "execution_count": null,
   "id": "78d740aa",
   "metadata": {},
   "outputs": [],
   "source": [
    "from math import sqrt, ceil\n",
    "\n",
    "def get_primes(n):\n",
    "    \"\"\"Calculate a list of primes up to n (included)\"\"\"\n",
    "    primelist = []\n",
    "    for candidate in range(2, n+1):\n",
    "        is_prime = True\n",
    "        root = int(ceil(sqrt(candidate)))\n",
    "        for prime in primelist:\n",
    "            if prime > root:\n",
    "                break\n",
    "            if candidate % prime == 0:\n",
    "                is_prime = False\n",
    "                break\n",
    "        if is_prime:\n",
    "            primelist.append(candidate)\n",
    "    return primelist"
   ]
  }
 ],
 "metadata": {
  "kernelspec": {
   "display_name": "mpv",
   "language": "python",
   "name": "python3"
  },
  "language_info": {
   "codemirror_mode": {
    "name": "ipython",
    "version": 3
   },
   "file_extension": ".py",
   "mimetype": "text/x-python",
   "name": "python",
   "nbconvert_exporter": "python",
   "pygments_lexer": "ipython3",
   "version": "3.10.12"
  }
 },
 "nbformat": 4,
 "nbformat_minor": 5
}
