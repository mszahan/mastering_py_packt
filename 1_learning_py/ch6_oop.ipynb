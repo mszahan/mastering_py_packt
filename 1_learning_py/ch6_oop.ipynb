{
 "cells": [
  {
   "cell_type": "markdown",
   "id": "d514fb35",
   "metadata": {},
   "source": [
    "### decorator"
   ]
  },
  {
   "cell_type": "code",
   "execution_count": null,
   "id": "f02b11bd",
   "metadata": {},
   "outputs": [],
   "source": [
    "from time import sleep, time\n",
    "\n",
    "def f(sleep_time=0.1):\n",
    "    sleep(sleep_time)\n",
    "\n",
    "def measure(func, *args, **kwargs):\n",
    "    t = time()\n",
    "    func(*args, **kwargs)\n",
    "    print(func.__name__, 'took:', time() - t)\n",
    "\n",
    "measure(f, sleep_time=0.3)\n",
    "# the 0.2 is passed as *args and first argument which is then working as sleep_time\n",
    "measure(f, 0.2)"
   ]
  },
  {
   "cell_type": "code",
   "execution_count": null,
   "id": "a3d51508",
   "metadata": {},
   "outputs": [],
   "source": [
    "from time import time, sleep\n",
    "\n",
    "def f(sleep_time=0.1):\n",
    "    sleep(sleep_time)\n",
    "\n",
    "def measure(func):\n",
    "    def wrapper(*args, **kwargs):\n",
    "        t = time()\n",
    "        func(*args, **kwargs)\n",
    "        print(func.__name__, 'took', time() - t)\n",
    "    return wrapper\n",
    "\n",
    "f = measure(f)\n",
    "f(0.2)\n",
    "f(sleep_time=0.3)\n",
    "print(f.__name__)\n"
   ]
  },
  {
   "cell_type": "code",
   "execution_count": null,
   "id": "c12d3110",
   "metadata": {},
   "outputs": [],
   "source": [
    "from time import sleep, time\n",
    "from functools import wraps\n",
    "\n",
    "def measure(func):\n",
    "    @wraps(func)\n",
    "    def wrapper(*args, **kwargs):\n",
    "        t = time()\n",
    "        func(*args, **kwargs)\n",
    "        print(func.__name__, 'took:', time() - t)\n",
    "    return wrapper\n",
    "\n",
    "@measure\n",
    "def f(sleep_time=0.1):\n",
    "    \"\"\"the docstring of function f\"\"\"\n",
    "    sleep(sleep_time)\n",
    "\n",
    "f(sleep_time=0.3)\n",
    "print(f.__name__, ':', f.__doc__)\n"
   ]
  },
  {
   "cell_type": "markdown",
   "id": "f1c7e1cc",
   "metadata": {},
   "source": [
    "### objects\n",
    "- Class attributes are shared amongst all instances, while instance attributes are not; therefore, you should use class attributes to provide the states and behaviors to be shared by all instances, and use instance attributes for data that belongs just to one specific object."
   ]
  },
  {
   "cell_type": "code",
   "execution_count": 4,
   "id": "d46168e5",
   "metadata": {},
   "outputs": [
    {
     "name": "stdout",
     "output_type": "stream",
     "text": [
      "Person - species:  Human\n",
      "man - species:  Human\n",
      "man - alive:  True\n",
      "man - alive: False\n",
      "man name- surname:  John Doe\n"
     ]
    }
   ],
   "source": [
    "class Person():\n",
    "    species = 'Human'\n",
    "\n",
    "Person.alive = True #dinamically added\n",
    "\n",
    "print('Person - species: ' ,Person.species)\n",
    "\n",
    "man = Person()\n",
    "print('man - species: ',man.species)\n",
    "print('man - alive: ',man.alive)\n",
    "\n",
    "Person.alive = False\n",
    "print('man - alive:', man.alive)\n",
    "\n",
    "man.name = 'John'\n",
    "man.surname = 'Doe'\n",
    "print('man name- surname: ', man.name, man.surname)\n"
   ]
  },
  {
   "cell_type": "markdown",
   "id": "62cb420d",
   "metadata": {},
   "source": [
    "- **Attribute shadowing:** When you search for an attribute in an object, if it is not found, Python keeps searching in the class that was used to create that object (and keeps searching until it's either found or the end of the inheritance chain is reached). This leads to an interesting shadowing behavior."
   ]
  },
  {
   "cell_type": "code",
   "execution_count": 5,
   "id": "6ff2f5ff",
   "metadata": {},
   "outputs": [
    {
     "name": "stdout",
     "output_type": "stream",
     "text": [
      "p - x: 10\n",
      "p - y: 20\n",
      "p - x: 12\n",
      "Point -x: 10\n",
      "after deleting p.x 10\n",
      "p - z: 30\n"
     ]
    },
    {
     "ename": "AttributeError",
     "evalue": "type object 'Point' has no attribute 'z'",
     "output_type": "error",
     "traceback": [
      "\u001b[0;31m---------------------------------------------------------------------------\u001b[0m",
      "\u001b[0;31mAttributeError\u001b[0m                            Traceback (most recent call last)",
      "Cell \u001b[0;32mIn[5], line 20\u001b[0m\n\u001b[1;32m     17\u001b[0m p\u001b[38;5;241m.\u001b[39mz \u001b[38;5;241m=\u001b[39m \u001b[38;5;241m30\u001b[39m\n\u001b[1;32m     18\u001b[0m \u001b[38;5;28mprint\u001b[39m(\u001b[38;5;124m'\u001b[39m\u001b[38;5;124mp - z:\u001b[39m\u001b[38;5;124m'\u001b[39m, p\u001b[38;5;241m.\u001b[39mz)\n\u001b[0;32m---> 20\u001b[0m \u001b[38;5;28mprint\u001b[39m(\u001b[38;5;124m'\u001b[39m\u001b[38;5;124mPoint - z:\u001b[39m\u001b[38;5;124m'\u001b[39m, \u001b[43mPoint\u001b[49m\u001b[38;5;241;43m.\u001b[39;49m\u001b[43mz\u001b[49m) \u001b[38;5;66;03m# this will raise an error\u001b[39;00m\n",
      "\u001b[0;31mAttributeError\u001b[0m: type object 'Point' has no attribute 'z'"
     ]
    }
   ],
   "source": [
    "class Point():\n",
    "    x = 10\n",
    "    y = 20\n",
    "\n",
    "p = Point()\n",
    "\n",
    "print('p - x:', p.x)\n",
    "print('p - y:', p.y)\n",
    "\n",
    "p.x = 12\n",
    "print('p - x:', p.x)\n",
    "print('Point -x:', Point.x)\n",
    "\n",
    "del p.x\n",
    "print('after deleting p.x', p.x)\n",
    "\n",
    "p.z = 30\n",
    "print('p - z:', p.z)\n",
    "\n",
    "print('Point - z:', Point.z) # this will raise an error"
   ]
  },
  {
   "cell_type": "markdown",
   "id": "d6f07377",
   "metadata": {},
   "source": [
    "### I, me, and myself – \n",
    "using the self variable From within a class method we can refer to an instance by means of a special argument, called self by convention. self is always the first attribute of an instance method."
   ]
  },
  {
   "cell_type": "code",
   "execution_count": 6,
   "id": "a3193371",
   "metadata": {},
   "outputs": [
    {
     "name": "stdout",
     "output_type": "stream",
     "text": [
      "sq - area: 64\n",
      "Square - area: 64\n",
      "sq - area: 100\n",
      "Square - area: 100\n"
     ]
    }
   ],
   "source": [
    "class Square():\n",
    "    side = 8\n",
    "    def area(self):\n",
    "        return self.side ** 2\n",
    "\n",
    "sq = Square()\n",
    "print('sq - area:', sq.area())\n",
    "print('Square - area:', Square.area(sq)) # this will work as well\n",
    "\n",
    "sq.side = 10\n",
    "print('sq - area:', sq.area())\n",
    "print('Square - area:', Square.area(sq)) # this will work as well"
   ]
  }
 ],
 "metadata": {
  "kernelspec": {
   "display_name": "mpv",
   "language": "python",
   "name": "python3"
  },
  "language_info": {
   "codemirror_mode": {
    "name": "ipython",
    "version": 3
   },
   "file_extension": ".py",
   "mimetype": "text/x-python",
   "name": "python",
   "nbconvert_exporter": "python",
   "pygments_lexer": "ipython3",
   "version": "3.10.12"
  }
 },
 "nbformat": 4,
 "nbformat_minor": 5
}
