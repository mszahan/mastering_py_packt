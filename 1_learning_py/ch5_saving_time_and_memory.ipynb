{
 "cells": [
  {
   "cell_type": "markdown",
   "id": "43b0755e",
   "metadata": {},
   "source": [
    "### map, zip, and filter\n",
    "- map\n"
   ]
  },
  {
   "cell_type": "code",
   "execution_count": 1,
   "id": "bff47dbc",
   "metadata": {},
   "outputs": [
    {
     "data": {
      "text/plain": [
       "<map at 0x7eff4cab7580>"
      ]
     },
     "execution_count": 1,
     "metadata": {},
     "output_type": "execute_result"
    }
   ],
   "source": [
    "map(lambda *a: a, range(3))"
   ]
  },
  {
   "cell_type": "code",
   "execution_count": 2,
   "id": "a0f496ac",
   "metadata": {},
   "outputs": [
    {
     "data": {
      "text/plain": [
       "[(0,), (1,), (2,)]"
      ]
     },
     "execution_count": 2,
     "metadata": {},
     "output_type": "execute_result"
    }
   ],
   "source": [
    "list(map(lambda *a : a, range(3)))"
   ]
  },
  {
   "cell_type": "code",
   "execution_count": 3,
   "id": "8295cf66",
   "metadata": {},
   "outputs": [
    {
     "data": {
      "text/plain": [
       "[(0, 'a'), (1, 'b'), (2, 'c')]"
      ]
     },
     "execution_count": 3,
     "metadata": {},
     "output_type": "execute_result"
    }
   ],
   "source": [
    "list(map(lambda *a : a , range(3), 'abc'))"
   ]
  },
  {
   "cell_type": "code",
   "execution_count": 5,
   "id": "126f8ac9",
   "metadata": {},
   "outputs": [
    {
     "data": {
      "text/plain": [
       "[(0, 'a', 4), (1, 'b', 5), (2, 'c', 6)]"
      ]
     },
     "execution_count": 5,
     "metadata": {},
     "output_type": "execute_result"
    }
   ],
   "source": [
    "list(map(lambda *a : a, range(3), 'abc', range(4, 7)))"
   ]
  },
  {
   "cell_type": "code",
   "execution_count": null,
   "id": "3ec4fa4f",
   "metadata": {},
   "outputs": [
    {
     "data": {
      "text/plain": [
       "[(0, 'a', 1), (1, 'b', 3)]"
      ]
     },
     "execution_count": 6,
     "metadata": {},
     "output_type": "execute_result"
    }
   ],
   "source": [
    "list(map(lambda *a : a, range(3), 'abc', (1, 3))) #shortest"
   ]
  },
  {
   "cell_type": "markdown",
   "id": "2fafeb0b",
   "metadata": {},
   "source": [
    "decorate-sort-undecorate idiom (also known as Schwartzian transform)"
   ]
  },
  {
   "cell_type": "code",
   "execution_count": 10,
   "id": "0f8da11c",
   "metadata": {},
   "outputs": [
    {
     "name": "stdout",
     "output_type": "stream",
     "text": [
      "[(27, {'id': 2, 'credit': {'math': 8, 'physics': 9, 'history': 10}}), (23, {'id': 1, 'credit': {'math': 6, 'physics': 7, 'history': 10}}), (22, {'id': 0, 'credit': {'math': 9, 'physics': 6, 'history': 7}}), (17, {'id': 3, 'credit': {'math': 5, 'physics': 5, 'history': 7}})]\n",
      "[{'id': 2, 'credit': {'math': 8, 'physics': 9, 'history': 10}}, {'id': 1, 'credit': {'math': 6, 'physics': 7, 'history': 10}}, {'id': 0, 'credit': {'math': 9, 'physics': 6, 'history': 7}}, {'id': 3, 'credit': {'math': 5, 'physics': 5, 'history': 7}}]\n"
     ]
    }
   ],
   "source": [
    "students = [\n",
    "    dict(id=0, credit=dict(math=9, physics=6, history=7)),\n",
    "    dict(id=1, credit=dict(math=6, physics=7, history=10)),\n",
    "    dict(id=2, credit=dict(math=8, physics=9, history=10)),\n",
    "    dict(id=3, credit=dict(math=5, physics=5, history=7)),\n",
    "]\n",
    "\n",
    "def decorate(student):\n",
    "    # create a 2-tuple (some of credits, student)\n",
    "    return (sum(student['credit'].values()), student)\n",
    "\n",
    "def undecorate(deocrated_student):\n",
    "    # idscard sum of credits, return original student\n",
    "    return deocrated_student[1]\n",
    "\n",
    "students = sorted(map(decorate, students), reverse=True)\n",
    "print(students)\n",
    "students = list(map(undecorate, students))\n",
    "print(students)"
   ]
  },
  {
   "cell_type": "markdown",
   "id": "ef79482c",
   "metadata": {},
   "source": [
    "- zip - zip(*iterables) returns an iterator of tuples, where the i-th tuple contains the i-th element from each of the argument sequences or iterables. The iterator stops when the shortest input iterable is exhausted."
   ]
  },
  {
   "cell_type": "code",
   "execution_count": null,
   "id": "4397638a",
   "metadata": {},
   "outputs": [
    {
     "data": {
      "text/plain": [
       "[(22, 18), (21, 23), (29, 30), (24, 27), (18, 15), (18, 9), (24, 22)]"
      ]
     },
     "execution_count": 3,
     "metadata": {},
     "output_type": "execute_result"
    }
   ],
   "source": [
    "grades = [18, 23, 30, 27, 15, 9, 22]\n",
    "avgs = [22, 21, 29, 24, 18, 18, 24]\n",
    "list(zip(avgs, grades))\n",
    "# equivalent to zip\n",
    "list(map(lambda *a : a, avgs, grades))"
   ]
  },
  {
   "cell_type": "code",
   "execution_count": null,
   "id": "5b4631c2",
   "metadata": {},
   "outputs": [
    {
     "name": "stdout",
     "output_type": "stream",
     "text": [
      "[6, 9, 2, 9, 7]\n",
      "[6, 9, 2, 9, 7]\n"
     ]
    }
   ],
   "source": [
    "a = [5, 9, 2, 4, 7]\n",
    "b = [3, 7, 1, 9, 2]\n",
    "c = [6, 8, 0, 5, 3]\n",
    "\n",
    "maxs = map(lambda n : max(*n), zip(a, b, c))\n",
    "print(list(maxs))\n",
    "# the following map is equivalent\n",
    "max_2 = map(lambda *x : max(*x), a, b, c)\n",
    "print(list(max_2))"
   ]
  },
  {
   "cell_type": "markdown",
   "id": "0ca595dd",
   "metadata": {},
   "source": [
    "- filter(function, iterable) -  construct an iterator from those elements of iterable for which function returns True. iterable may be either a sequence, a container which supports iteration, or an iterator."
   ]
  },
  {
   "cell_type": "code",
   "execution_count": 9,
   "id": "c27c96d5",
   "metadata": {},
   "outputs": [
    {
     "name": "stdout",
     "output_type": "stream",
     "text": [
      "[2, 5, 8, 1]\n",
      "[2, 5, 8, 1]\n"
     ]
    }
   ],
   "source": [
    "test = [2, 5, 8, 0, 0, 1, 0]\n",
    "non_zero = list(filter(None, test)) # all the values are true except zero\n",
    "print(non_zero)\n",
    "# the equivalent of previous call\n",
    "non_zero_2 = list(filter(lambda x: x, test))\n",
    "print(non_zero_2)"
   ]
  },
  {
   "cell_type": "code",
   "execution_count": 10,
   "id": "da2b2ee4",
   "metadata": {},
   "outputs": [
    {
     "name": "stdout",
     "output_type": "stream",
     "text": [
      "[5, 8]\n"
     ]
    }
   ],
   "source": [
    "greater_than_four = list(filter(lambda x : x > 4, test))\n",
    "print(greater_than_four)"
   ]
  },
  {
   "cell_type": "markdown",
   "id": "dc317664",
   "metadata": {},
   "source": [
    "### Comprehensions\n",
    "- List comprehension"
   ]
  },
  {
   "cell_type": "code",
   "execution_count": 4,
   "id": "58be0ca1",
   "metadata": {},
   "outputs": [
    {
     "name": "stdout",
     "output_type": "stream",
     "text": [
      "[0, 1, 4, 9, 16, 25, 36, 49, 64, 81]\n",
      "[0, 1, 4, 9, 16, 25, 36, 49, 64, 81]\n"
     ]
    }
   ],
   "source": [
    "squares = []\n",
    "for n in range(10):\n",
    "    squares.append(n ** 2)\n",
    "\n",
    "print(squares)\n",
    "\n",
    "squares = map(lambda n: n ** 2, range(10))\n",
    "print(list(squares))"
   ]
  },
  {
   "cell_type": "code",
   "execution_count": 5,
   "id": "32026fb1",
   "metadata": {},
   "outputs": [
    {
     "name": "stdout",
     "output_type": "stream",
     "text": [
      "[0, 1, 4, 9, 16, 25, 36, 49, 64, 81]\n"
     ]
    }
   ],
   "source": [
    "squares = [n ** 2 for n in range(10)]\n",
    "print(squares)"
   ]
  },
  {
   "cell_type": "code",
   "execution_count": 7,
   "id": "82cf6a05",
   "metadata": {},
   "outputs": [
    {
     "name": "stdout",
     "output_type": "stream",
     "text": [
      "[0, 4, 16, 36, 64]\n",
      "[0, 4, 16, 36, 64]\n"
     ]
    }
   ],
   "source": [
    "sq1 = list(filter(lambda n: not n % 2, map(lambda x : x ** 2, range(10))))\n",
    "print(sq1)\n",
    "\n",
    "sq2 = [n ** 2 for n in range(10) if not n % 2]\n",
    "print(sq2)"
   ]
  },
  {
   "cell_type": "markdown",
   "id": "d20f25d4",
   "metadata": {},
   "source": [
    "- Nested Loop"
   ]
  },
  {
   "cell_type": "code",
   "execution_count": 10,
   "id": "20bcd0d0",
   "metadata": {},
   "outputs": [
    {
     "name": "stdout",
     "output_type": "stream",
     "text": [
      "[('A', 'A'), ('A', 'B'), ('A', 'C'), ('A', 'D'), ('A', 'E'), ('B', 'B'), ('B', 'C'), ('B', 'D'), ('B', 'E'), ('C', 'C'), ('C', 'D'), ('C', 'E'), ('D', 'D'), ('D', 'E'), ('E', 'E')]\n"
     ]
    }
   ],
   "source": [
    "items = 'ABCDE'\n",
    "pairs = []\n",
    "for a in range(len(items)):\n",
    "    for b in range(a, len(items)):\n",
    "        pairs.append((items[a], items[b]))\n",
    "print(pairs)"
   ]
  },
  {
   "cell_type": "code",
   "execution_count": 13,
   "id": "fbed1a0a",
   "metadata": {},
   "outputs": [
    {
     "name": "stdout",
     "output_type": "stream",
     "text": [
      "[('A', 'A'), ('A', 'B'), ('A', 'C'), ('A', 'D'), ('A', 'E'), ('B', 'B'), ('B', 'C'), ('B', 'D'), ('B', 'E'), ('C', 'C'), ('C', 'D'), ('C', 'E'), ('D', 'D'), ('D', 'E'), ('E', 'E')]\n"
     ]
    }
   ],
   "source": [
    "pair2 = [(items[x], items[y]) for x in range(len(items)) for y in range(x, len(items))]\n",
    "print(pair2)"
   ]
  },
  {
   "cell_type": "markdown",
   "id": "80967dd3",
   "metadata": {},
   "source": [
    "- Filtering a comprehension"
   ]
  },
  {
   "cell_type": "code",
   "execution_count": 15,
   "id": "ea89ae38",
   "metadata": {},
   "outputs": [
    {
     "name": "stdout",
     "output_type": "stream",
     "text": [
      "[(1, 1, 1.4142135623730951), (1, 2, 2.23606797749979), (1, 3, 3.1622776601683795), (1, 4, 4.123105625617661), (1, 5, 5.0990195135927845), (1, 6, 6.082762530298219), (1, 7, 7.0710678118654755), (1, 8, 8.06225774829855), (1, 9, 9.055385138137417), (2, 2, 2.8284271247461903), (2, 3, 3.605551275463989), (2, 4, 4.47213595499958), (2, 5, 5.385164807134504), (2, 6, 6.324555320336759), (2, 7, 7.280109889280518), (2, 8, 8.246211251235321), (2, 9, 9.219544457292887), (3, 3, 4.242640687119285), (3, 4, 5.0), (3, 5, 5.830951894845301), (3, 6, 6.708203932499369), (3, 7, 7.615773105863909), (3, 8, 8.54400374531753), (3, 9, 9.486832980505138), (4, 4, 5.656854249492381), (4, 5, 6.4031242374328485), (4, 6, 7.211102550927978), (4, 7, 8.06225774829855), (4, 8, 8.94427190999916), (4, 9, 9.848857801796104), (5, 5, 7.0710678118654755), (5, 6, 7.810249675906654), (5, 7, 8.602325267042627), (5, 8, 9.433981132056603), (5, 9, 10.295630140987), (6, 6, 8.48528137423857), (6, 7, 9.219544457292887), (6, 8, 10.0), (6, 9, 10.816653826391969), (7, 7, 9.899494936611665), (7, 8, 10.63014581273465), (7, 9, 11.40175425099138), (8, 8, 11.313708498984761), (8, 9, 12.041594578792296), (9, 9, 12.727922061357855)]\n",
      "[(3, 4, 5.0), (6, 8, 10.0)]\n"
     ]
    }
   ],
   "source": [
    "from math import sqrt\n",
    "# this will generate all possible pairs\n",
    "mx = 10\n",
    "legs = [(a, b, sqrt(a**2 +b**2)) for a in range(1, mx) for b in range(a, mx)]\n",
    "print(legs)\n",
    "# this will filter out all non pythagorean triples\n",
    "legs = list(filter(lambda triple: triple[2].is_integer(), legs))\n",
    "print(legs)"
   ]
  },
  {
   "cell_type": "code",
   "execution_count": null,
   "id": "2bd4bed6",
   "metadata": {},
   "outputs": [
    {
     "name": "stdout",
     "output_type": "stream",
     "text": [
      "[(3, 4, 5), (6, 8, 10)]\n"
     ]
    }
   ],
   "source": [
    "# converting the float to int then concatenate for tuple\n",
    "legs = list(map(lambda triple: triple[:2] + (int(triple[2]),), legs))\n",
    "print(legs)"
   ]
  },
  {
   "cell_type": "code",
   "execution_count": 17,
   "id": "bc7b8e01",
   "metadata": {},
   "outputs": [
    {
     "name": "stdout",
     "output_type": "stream",
     "text": [
      "[(3, 4, 5), (6, 8, 10)]\n"
     ]
    }
   ],
   "source": [
    "# doing all the work in list comprehension\n",
    "m_x = 10\n",
    "leg_s = [(x, y, sqrt(x**2 + y**2)) for x in range(1, m_x) for y in range(x, m_x)]\n",
    "leg_s = [(x, y, int(z)) for x, y, z in leg_s if z.is_integer()]\n",
    "print(leg_s)"
   ]
  },
  {
   "cell_type": "markdown",
   "id": "c786118a",
   "metadata": {},
   "source": [
    "- dict comprehensions"
   ]
  },
  {
   "cell_type": "code",
   "execution_count": null,
   "id": "bfb99837",
   "metadata": {},
   "outputs": [
    {
     "name": "stdout",
     "output_type": "stream",
     "text": [
      "{'a': 1, 'b': 2, 'c': 3, 'd': 4, 'e': 5, 'f': 6, 'g': 7, 'h': 8, 'i': 9, 'j': 10, 'k': 11, 'l': 12, 'm': 13, 'n': 14, 'o': 15, 'p': 16, 'q': 17, 'r': 18, 's': 19, 't': 20, 'u': 21, 'v': 22, 'w': 23, 'x': 24, 'y': 25, 'z': 26}\n"
     ]
    }
   ],
   "source": [
    "from string import ascii_lowercase\n",
    "lettermap = dict((c, k) for k,c in enumerate(ascii_lowercase, 1))\n",
    "# lettermap = {c:k for k,c in enumerate(ascii_lowercase, 1)} #same as previous\n",
    "print(lettermap)"
   ]
  },
  {
   "cell_type": "code",
   "execution_count": 19,
   "id": "58ab771d",
   "metadata": {},
   "outputs": [
    {
     "name": "stdout",
     "output_type": "stream",
     "text": [
      "{'H': 'h', 'e': 'E', 'l': 'L', 'o': 'O'}\n"
     ]
    }
   ],
   "source": [
    "word = 'Hello'\n",
    "swaps = {c: c.swapcase() for c in word}\n",
    "print(swaps)"
   ]
  },
  {
   "cell_type": "code",
   "execution_count": null,
   "id": "3394beca",
   "metadata": {},
   "outputs": [
    {
     "name": "stdout",
     "output_type": "stream",
     "text": [
      "{'H': 0, 'e': 1, 'l': 3, 'o': 4}\n"
     ]
    }
   ],
   "source": [
    "positions = {c: k for k, c in enumerate(word)}\n",
    "print(positions)\n",
    "# 2 position is overrid by the third l"
   ]
  },
  {
   "cell_type": "markdown",
   "id": "4603c2cc",
   "metadata": {},
   "source": [
    "- Set comprehensions"
   ]
  },
  {
   "cell_type": "code",
   "execution_count": 1,
   "id": "b03dce52",
   "metadata": {},
   "outputs": [
    {
     "name": "stdout",
     "output_type": "stream",
     "text": [
      "{'e', 'l', 'o', 'H'}\n",
      "{'e', 'l', 'o', 'H'}\n"
     ]
    }
   ],
   "source": [
    "word = 'Hello'\n",
    "letters1 = set(c for c in word)\n",
    "print(letters1)\n",
    "\n",
    "letter2 = {c for c in word}\n",
    "print(letter2)"
   ]
  },
  {
   "cell_type": "markdown",
   "id": "f210443d",
   "metadata": {},
   "source": [
    "### Generators\n",
    "- **Generator functions:** These are very similar to regular functions, but instead of returning results through return statements, they use yield, which allows them to suspend and resume their state between each call\n",
    "\n",
    "- **Generator expressions:** These are very similar to the list comprehensions, but instead of returning a list they return an object that produces results one by one"
   ]
  },
  {
   "cell_type": "markdown",
   "id": "f80f905e",
   "metadata": {},
   "source": [
    "- Generator functions"
   ]
  },
  {
   "cell_type": "code",
   "execution_count": 2,
   "id": "b7971d74",
   "metadata": {},
   "outputs": [
    {
     "name": "stdout",
     "output_type": "stream",
     "text": [
      "[0, 1, 4, 9, 16, 25, 36, 49, 64, 81]\n"
     ]
    }
   ],
   "source": [
    "def get_squares(n):\n",
    "    return [x**2 for x in range(n)]\n",
    "\n",
    "print(get_squares(10))"
   ]
  },
  {
   "cell_type": "code",
   "execution_count": 2,
   "id": "2acc0ea0",
   "metadata": {},
   "outputs": [
    {
     "name": "stdout",
     "output_type": "stream",
     "text": [
      "[0, 1, 4, 9, 16, 25, 36, 49, 64, 81]\n"
     ]
    }
   ],
   "source": [
    "def get_squares_gen(n):\n",
    "    for x in range(n):\n",
    "        yield x**2\n",
    "\n",
    "print(list(get_squares_gen(10)))"
   ]
  },
  {
   "cell_type": "code",
   "execution_count": null,
   "id": "11b19df0",
   "metadata": {},
   "outputs": [],
   "source": [
    "squares = get_squares_gen(4)\n",
    "print(squares)\n",
    "print(next(squares))\n",
    "print(next(squares))\n",
    "print(next(squares))\n",
    "print(next(squares))\n",
    "print(next(squares)) # this will give you StopIteration error"
   ]
  },
  {
   "cell_type": "code",
   "execution_count": 7,
   "id": "917a4427",
   "metadata": {},
   "outputs": [
    {
     "name": "stdout",
     "output_type": "stream",
     "text": [
      "2\n",
      "10\n",
      "50\n",
      "250\n",
      "1250\n",
      "6250\n",
      "31250\n"
     ]
    }
   ],
   "source": [
    "def geometric_progression(a, q):\n",
    "    k = 0\n",
    "    while True:\n",
    "        result = a * q**k\n",
    "        if result <=100000:\n",
    "            yield result\n",
    "        else:\n",
    "            return\n",
    "        k +=1\n",
    "\n",
    "for n in geometric_progression(2, 5):\n",
    "    print(n)"
   ]
  }
 ],
 "metadata": {
  "kernelspec": {
   "display_name": "mpv",
   "language": "python",
   "name": "python3"
  },
  "language_info": {
   "codemirror_mode": {
    "name": "ipython",
    "version": 3
   },
   "file_extension": ".py",
   "mimetype": "text/x-python",
   "name": "python",
   "nbconvert_exporter": "python",
   "pygments_lexer": "ipython3",
   "version": "3.10.12"
  }
 },
 "nbformat": 4,
 "nbformat_minor": 5
}
